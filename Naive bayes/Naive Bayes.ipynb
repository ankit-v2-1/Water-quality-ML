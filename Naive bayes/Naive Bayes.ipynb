{
 "cells": [
  {
   "cell_type": "code",
   "execution_count": 1,
   "metadata": {},
   "outputs": [
    {
     "output_type": "execute_result",
     "data": {
      "text/plain": [
       "   ID       SITENAME     Mg   PH  K(Potassium)  NITRATE  SULPHATE  \\\n",
       "0   1   Vengalapuram  268.0  7.3          10.0    276.0     304.0   \n",
       "1   2        Kavalur   94.9  7.2           3.0      2.0      12.0   \n",
       "2   3      Alangayam  226.1  7.5           0.0     16.0     150.0   \n",
       "3   4   Vaniyambadi1  211.6  7.3           5.0    140.0     264.0   \n",
       "4   5  Sangilikuppam  238.3  7.2           2.0    174.0     240.0   \n",
       "\n",
       "   EC(Electrical Conductivity)  Ca(Calcium)  Na(Sodium)  CARBONATE  \\\n",
       "0                         5730         16.0         850          0   \n",
       "1                         1069         24.0          77          0   \n",
       "2                         2830         20.0         300          0   \n",
       "3                         3600         20.0         500          0   \n",
       "4                         2300         24.0         152          0   \n",
       "\n",
       "   BICARBONATE  CHLORIDE  FLUORIDE  SAR(Sodium Absorption Ratio)  \\\n",
       "0        878.0    1304.0       1.6                          10.9   \n",
       "1        421.0     163.0       1.3                           1.6   \n",
       "2        549.0     631.0       1.0                           4.2   \n",
       "3        726.0     680.0       1.7                           7.2   \n",
       "4        537.0     305.0       1.2                           2.1   \n",
       "\n",
       "   RSC(Residual Sodium Carbonate waterQuality  \n",
       "0                           -8.5            E  \n",
       "1                           -2.1            A  \n",
       "2                          -10.6            E  \n",
       "3                           -6.5            E  \n",
       "4                          -12.0            E  "
      ],
      "text/html": "<div>\n<style scoped>\n    .dataframe tbody tr th:only-of-type {\n        vertical-align: middle;\n    }\n\n    .dataframe tbody tr th {\n        vertical-align: top;\n    }\n\n    .dataframe thead th {\n        text-align: right;\n    }\n</style>\n<table border=\"1\" class=\"dataframe\">\n  <thead>\n    <tr style=\"text-align: right;\">\n      <th></th>\n      <th>ID</th>\n      <th>SITENAME</th>\n      <th>Mg</th>\n      <th>PH</th>\n      <th>K(Potassium)</th>\n      <th>NITRATE</th>\n      <th>SULPHATE</th>\n      <th>EC(Electrical Conductivity)</th>\n      <th>Ca(Calcium)</th>\n      <th>Na(Sodium)</th>\n      <th>CARBONATE</th>\n      <th>BICARBONATE</th>\n      <th>CHLORIDE</th>\n      <th>FLUORIDE</th>\n      <th>SAR(Sodium Absorption Ratio)</th>\n      <th>RSC(Residual Sodium Carbonate</th>\n      <th>waterQuality</th>\n    </tr>\n  </thead>\n  <tbody>\n    <tr>\n      <th>0</th>\n      <td>1</td>\n      <td>Vengalapuram</td>\n      <td>268.0</td>\n      <td>7.3</td>\n      <td>10.0</td>\n      <td>276.0</td>\n      <td>304.0</td>\n      <td>5730</td>\n      <td>16.0</td>\n      <td>850</td>\n      <td>0</td>\n      <td>878.0</td>\n      <td>1304.0</td>\n      <td>1.6</td>\n      <td>10.9</td>\n      <td>-8.5</td>\n      <td>E</td>\n    </tr>\n    <tr>\n      <th>1</th>\n      <td>2</td>\n      <td>Kavalur</td>\n      <td>94.9</td>\n      <td>7.2</td>\n      <td>3.0</td>\n      <td>2.0</td>\n      <td>12.0</td>\n      <td>1069</td>\n      <td>24.0</td>\n      <td>77</td>\n      <td>0</td>\n      <td>421.0</td>\n      <td>163.0</td>\n      <td>1.3</td>\n      <td>1.6</td>\n      <td>-2.1</td>\n      <td>A</td>\n    </tr>\n    <tr>\n      <th>2</th>\n      <td>3</td>\n      <td>Alangayam</td>\n      <td>226.1</td>\n      <td>7.5</td>\n      <td>0.0</td>\n      <td>16.0</td>\n      <td>150.0</td>\n      <td>2830</td>\n      <td>20.0</td>\n      <td>300</td>\n      <td>0</td>\n      <td>549.0</td>\n      <td>631.0</td>\n      <td>1.0</td>\n      <td>4.2</td>\n      <td>-10.6</td>\n      <td>E</td>\n    </tr>\n    <tr>\n      <th>3</th>\n      <td>4</td>\n      <td>Vaniyambadi1</td>\n      <td>211.6</td>\n      <td>7.3</td>\n      <td>5.0</td>\n      <td>140.0</td>\n      <td>264.0</td>\n      <td>3600</td>\n      <td>20.0</td>\n      <td>500</td>\n      <td>0</td>\n      <td>726.0</td>\n      <td>680.0</td>\n      <td>1.7</td>\n      <td>7.2</td>\n      <td>-6.5</td>\n      <td>E</td>\n    </tr>\n    <tr>\n      <th>4</th>\n      <td>5</td>\n      <td>Sangilikuppam</td>\n      <td>238.3</td>\n      <td>7.2</td>\n      <td>2.0</td>\n      <td>174.0</td>\n      <td>240.0</td>\n      <td>2300</td>\n      <td>24.0</td>\n      <td>152</td>\n      <td>0</td>\n      <td>537.0</td>\n      <td>305.0</td>\n      <td>1.2</td>\n      <td>2.1</td>\n      <td>-12.0</td>\n      <td>E</td>\n    </tr>\n  </tbody>\n</table>\n</div>"
     },
     "metadata": {},
     "execution_count": 1
    }
   ],
   "source": [
    "import numpy as np \n",
    "import matplotlib.pyplot as plt \n",
    "import pandas as pd\n",
    "from sklearn.model_selection import train_test_split\n",
    "import warnings\n",
    "\n",
    "df=pd.read_csv(\"dataset.csv\")\n",
    "df.head()\n"
   ]
  },
  {
   "cell_type": "code",
   "execution_count": 2,
   "metadata": {},
   "outputs": [
    {
     "output_type": "stream",
     "name": "stdout",
     "text": [
      "<class 'pandas.core.frame.DataFrame'>\nRangeIndex: 88 entries, 0 to 87\nData columns (total 17 columns):\n #   Column                         Non-Null Count  Dtype  \n---  ------                         --------------  -----  \n 0   ID                             88 non-null     int64  \n 1   SITENAME                       88 non-null     object \n 2   Mg                             88 non-null     float64\n 3   PH                             88 non-null     float64\n 4   K(Potassium)                   88 non-null     float64\n 5   NITRATE                        88 non-null     float64\n 6   SULPHATE                       88 non-null     float64\n 7   EC(Electrical Conductivity)    88 non-null     int64  \n 8   Ca(Calcium)                    88 non-null     float64\n 9   Na(Sodium)                     88 non-null     int64  \n 10  CARBONATE                      88 non-null     int64  \n 11  BICARBONATE                    88 non-null     float64\n 12  CHLORIDE                       88 non-null     float64\n 13  FLUORIDE                       88 non-null     float64\n 14  SAR(Sodium Absorption Ratio)   88 non-null     float64\n 15  RSC(Residual Sodium Carbonate  88 non-null     float64\n 16  waterQuality                   88 non-null     object \ndtypes: float64(11), int64(4), object(2)\nmemory usage: 11.8+ KB\n"
     ]
    }
   ],
   "source": [
    "#dataset description\n",
    "import numpy as np\n",
    "import pandas as pd\n",
    "from sklearn.metrics import classification_report, confusion_matrix, accuracy_score\n",
    "df.info()"
   ]
  },
  {
   "cell_type": "code",
   "execution_count": 3,
   "metadata": {},
   "outputs": [
    {
     "output_type": "execute_result",
     "data": {
      "text/plain": [
       "   ID       SITENAME     Mg   PH  K(Potassium)  NITRATE  SULPHATE  \\\n",
       "0   1   Vengalapuram  268.0  7.3          10.0    276.0     304.0   \n",
       "1   2        Kavalur   94.9  7.2           3.0      2.0      12.0   \n",
       "2   3      Alangayam  226.1  7.5           0.0     16.0     150.0   \n",
       "3   4   Vaniyambadi1  211.6  7.3           5.0    140.0     264.0   \n",
       "4   5  Sangilikuppam  238.3  7.2           2.0    174.0     240.0   \n",
       "\n",
       "   EC(Electrical Conductivity)  Ca(Calcium)  Na(Sodium)  CARBONATE  \\\n",
       "0                         5730         16.0         850          0   \n",
       "1                         1069         24.0          77          0   \n",
       "2                         2830         20.0         300          0   \n",
       "3                         3600         20.0         500          0   \n",
       "4                         2300         24.0         152          0   \n",
       "\n",
       "   BICARBONATE  CHLORIDE  FLUORIDE  SAR(Sodium Absorption Ratio)  \\\n",
       "0        878.0    1304.0       1.6                          10.9   \n",
       "1        421.0     163.0       1.3                           1.6   \n",
       "2        549.0     631.0       1.0                           4.2   \n",
       "3        726.0     680.0       1.7                           7.2   \n",
       "4        537.0     305.0       1.2                           2.1   \n",
       "\n",
       "   RSC(Residual Sodium Carbonate waterQuality  \n",
       "0                           -8.5            5  \n",
       "1                           -2.1            1  \n",
       "2                          -10.6            5  \n",
       "3                           -6.5            5  \n",
       "4                          -12.0            5  "
      ],
      "text/html": "<div>\n<style scoped>\n    .dataframe tbody tr th:only-of-type {\n        vertical-align: middle;\n    }\n\n    .dataframe tbody tr th {\n        vertical-align: top;\n    }\n\n    .dataframe thead th {\n        text-align: right;\n    }\n</style>\n<table border=\"1\" class=\"dataframe\">\n  <thead>\n    <tr style=\"text-align: right;\">\n      <th></th>\n      <th>ID</th>\n      <th>SITENAME</th>\n      <th>Mg</th>\n      <th>PH</th>\n      <th>K(Potassium)</th>\n      <th>NITRATE</th>\n      <th>SULPHATE</th>\n      <th>EC(Electrical Conductivity)</th>\n      <th>Ca(Calcium)</th>\n      <th>Na(Sodium)</th>\n      <th>CARBONATE</th>\n      <th>BICARBONATE</th>\n      <th>CHLORIDE</th>\n      <th>FLUORIDE</th>\n      <th>SAR(Sodium Absorption Ratio)</th>\n      <th>RSC(Residual Sodium Carbonate</th>\n      <th>waterQuality</th>\n    </tr>\n  </thead>\n  <tbody>\n    <tr>\n      <th>0</th>\n      <td>1</td>\n      <td>Vengalapuram</td>\n      <td>268.0</td>\n      <td>7.3</td>\n      <td>10.0</td>\n      <td>276.0</td>\n      <td>304.0</td>\n      <td>5730</td>\n      <td>16.0</td>\n      <td>850</td>\n      <td>0</td>\n      <td>878.0</td>\n      <td>1304.0</td>\n      <td>1.6</td>\n      <td>10.9</td>\n      <td>-8.5</td>\n      <td>5</td>\n    </tr>\n    <tr>\n      <th>1</th>\n      <td>2</td>\n      <td>Kavalur</td>\n      <td>94.9</td>\n      <td>7.2</td>\n      <td>3.0</td>\n      <td>2.0</td>\n      <td>12.0</td>\n      <td>1069</td>\n      <td>24.0</td>\n      <td>77</td>\n      <td>0</td>\n      <td>421.0</td>\n      <td>163.0</td>\n      <td>1.3</td>\n      <td>1.6</td>\n      <td>-2.1</td>\n      <td>1</td>\n    </tr>\n    <tr>\n      <th>2</th>\n      <td>3</td>\n      <td>Alangayam</td>\n      <td>226.1</td>\n      <td>7.5</td>\n      <td>0.0</td>\n      <td>16.0</td>\n      <td>150.0</td>\n      <td>2830</td>\n      <td>20.0</td>\n      <td>300</td>\n      <td>0</td>\n      <td>549.0</td>\n      <td>631.0</td>\n      <td>1.0</td>\n      <td>4.2</td>\n      <td>-10.6</td>\n      <td>5</td>\n    </tr>\n    <tr>\n      <th>3</th>\n      <td>4</td>\n      <td>Vaniyambadi1</td>\n      <td>211.6</td>\n      <td>7.3</td>\n      <td>5.0</td>\n      <td>140.0</td>\n      <td>264.0</td>\n      <td>3600</td>\n      <td>20.0</td>\n      <td>500</td>\n      <td>0</td>\n      <td>726.0</td>\n      <td>680.0</td>\n      <td>1.7</td>\n      <td>7.2</td>\n      <td>-6.5</td>\n      <td>5</td>\n    </tr>\n    <tr>\n      <th>4</th>\n      <td>5</td>\n      <td>Sangilikuppam</td>\n      <td>238.3</td>\n      <td>7.2</td>\n      <td>2.0</td>\n      <td>174.0</td>\n      <td>240.0</td>\n      <td>2300</td>\n      <td>24.0</td>\n      <td>152</td>\n      <td>0</td>\n      <td>537.0</td>\n      <td>305.0</td>\n      <td>1.2</td>\n      <td>2.1</td>\n      <td>-12.0</td>\n      <td>5</td>\n    </tr>\n  </tbody>\n</table>\n</div>"
     },
     "metadata": {},
     "execution_count": 3
    }
   ],
   "source": [
    "df['waterQuality'] = df['waterQuality'].replace(['A'],'1')\n",
    "df['waterQuality'] = df['waterQuality'].replace(['B'],'2')\n",
    "df['waterQuality'] = df['waterQuality'].replace(['C'],'3')\n",
    "df['waterQuality'] = df['waterQuality'].replace(['D'],'4')\n",
    "df['waterQuality'] = df['waterQuality'].replace(['E'],'5')\n",
    "df.head()"
   ]
  },
  {
   "cell_type": "code",
   "execution_count": 4,
   "metadata": {},
   "outputs": [
    {
     "output_type": "execute_result",
     "data": {
      "text/plain": [
       "      Mg   PH  K(Potassium)  NITRATE  SULPHATE  EC(Electrical Conductivity)  \\\n",
       "0  268.0  7.3          10.0    276.0     304.0                         5730   \n",
       "1   94.9  7.2           3.0      2.0      12.0                         1069   \n",
       "2  226.1  7.5           0.0     16.0     150.0                         2830   \n",
       "3  211.6  7.3           5.0    140.0     264.0                         3600   \n",
       "4  238.3  7.2           2.0    174.0     240.0                         2300   \n",
       "\n",
       "   Ca(Calcium)  Na(Sodium)  BICARBONATE  CHLORIDE  FLUORIDE  \\\n",
       "0         16.0         850        878.0    1304.0       1.6   \n",
       "1         24.0          77        421.0     163.0       1.3   \n",
       "2         20.0         300        549.0     631.0       1.0   \n",
       "3         20.0         500        726.0     680.0       1.7   \n",
       "4         24.0         152        537.0     305.0       1.2   \n",
       "\n",
       "   SAR(Sodium Absorption Ratio)  RSC(Residual Sodium Carbonate waterQuality  \n",
       "0                          10.9                           -8.5            5  \n",
       "1                           1.6                           -2.1            1  \n",
       "2                           4.2                          -10.6            5  \n",
       "3                           7.2                           -6.5            5  \n",
       "4                           2.1                          -12.0            5  "
      ],
      "text/html": "<div>\n<style scoped>\n    .dataframe tbody tr th:only-of-type {\n        vertical-align: middle;\n    }\n\n    .dataframe tbody tr th {\n        vertical-align: top;\n    }\n\n    .dataframe thead th {\n        text-align: right;\n    }\n</style>\n<table border=\"1\" class=\"dataframe\">\n  <thead>\n    <tr style=\"text-align: right;\">\n      <th></th>\n      <th>Mg</th>\n      <th>PH</th>\n      <th>K(Potassium)</th>\n      <th>NITRATE</th>\n      <th>SULPHATE</th>\n      <th>EC(Electrical Conductivity)</th>\n      <th>Ca(Calcium)</th>\n      <th>Na(Sodium)</th>\n      <th>BICARBONATE</th>\n      <th>CHLORIDE</th>\n      <th>FLUORIDE</th>\n      <th>SAR(Sodium Absorption Ratio)</th>\n      <th>RSC(Residual Sodium Carbonate</th>\n      <th>waterQuality</th>\n    </tr>\n  </thead>\n  <tbody>\n    <tr>\n      <th>0</th>\n      <td>268.0</td>\n      <td>7.3</td>\n      <td>10.0</td>\n      <td>276.0</td>\n      <td>304.0</td>\n      <td>5730</td>\n      <td>16.0</td>\n      <td>850</td>\n      <td>878.0</td>\n      <td>1304.0</td>\n      <td>1.6</td>\n      <td>10.9</td>\n      <td>-8.5</td>\n      <td>5</td>\n    </tr>\n    <tr>\n      <th>1</th>\n      <td>94.9</td>\n      <td>7.2</td>\n      <td>3.0</td>\n      <td>2.0</td>\n      <td>12.0</td>\n      <td>1069</td>\n      <td>24.0</td>\n      <td>77</td>\n      <td>421.0</td>\n      <td>163.0</td>\n      <td>1.3</td>\n      <td>1.6</td>\n      <td>-2.1</td>\n      <td>1</td>\n    </tr>\n    <tr>\n      <th>2</th>\n      <td>226.1</td>\n      <td>7.5</td>\n      <td>0.0</td>\n      <td>16.0</td>\n      <td>150.0</td>\n      <td>2830</td>\n      <td>20.0</td>\n      <td>300</td>\n      <td>549.0</td>\n      <td>631.0</td>\n      <td>1.0</td>\n      <td>4.2</td>\n      <td>-10.6</td>\n      <td>5</td>\n    </tr>\n    <tr>\n      <th>3</th>\n      <td>211.6</td>\n      <td>7.3</td>\n      <td>5.0</td>\n      <td>140.0</td>\n      <td>264.0</td>\n      <td>3600</td>\n      <td>20.0</td>\n      <td>500</td>\n      <td>726.0</td>\n      <td>680.0</td>\n      <td>1.7</td>\n      <td>7.2</td>\n      <td>-6.5</td>\n      <td>5</td>\n    </tr>\n    <tr>\n      <th>4</th>\n      <td>238.3</td>\n      <td>7.2</td>\n      <td>2.0</td>\n      <td>174.0</td>\n      <td>240.0</td>\n      <td>2300</td>\n      <td>24.0</td>\n      <td>152</td>\n      <td>537.0</td>\n      <td>305.0</td>\n      <td>1.2</td>\n      <td>2.1</td>\n      <td>-12.0</td>\n      <td>5</td>\n    </tr>\n  </tbody>\n</table>\n</div>"
     },
     "metadata": {},
     "execution_count": 4
    }
   ],
   "source": [
    "y = df['waterQuality'].astype('int32')\n",
    "x = df.drop(columns = ['SITENAME','ID','CARBONATE'], axis = 1)\n",
    "model = x\n",
    "model.head()"
   ]
  },
  {
   "cell_type": "code",
   "execution_count": 5,
   "metadata": {},
   "outputs": [],
   "source": [
    "inputs = model.drop(columns = ['waterQuality'], axis = 1)\n",
    "target = model['waterQuality'].astype('int32')\n",
    "\n",
    "from sklearn.preprocessing import LabelEncoder\n",
    "le=LabelEncoder()\n",
    "target=le.fit_transform(model['waterQuality'])"
   ]
  },
  {
   "cell_type": "code",
   "execution_count": 6,
   "metadata": {},
   "outputs": [],
   "source": [
    "from sklearn.model_selection import train_test_split\n",
    "X_train, X_test, y_train, y_test = train_test_split(inputs,target,test_size=0.2, random_state = 35)\n",
    "\n",
    "from sklearn.preprocessing import StandardScaler\n",
    "scaler = StandardScaler()\n",
    "scaler.fit(X_train)\n",
    "\n",
    "X_train = scaler.transform(X_train)\n",
    "X_test = scaler.transform(X_test)"
   ]
  },
  {
   "cell_type": "code",
   "execution_count": 7,
   "metadata": {},
   "outputs": [],
   "source": [
    "from sklearn.naive_bayes import GaussianNB\n",
    "classifier = GaussianNB()\n",
    "classifier.fit(X_train, y_train.ravel())\n",
    "y_pred = classifier.predict(X_test)"
   ]
  },
  {
   "cell_type": "code",
   "execution_count": 8,
   "metadata": {},
   "outputs": [
    {
     "output_type": "stream",
     "name": "stdout",
     "text": [
      "Accuracy:  0.7777777777777778\nPercentage Accuracy:  77.77777777777779\n[[9 0 1 0 0]\n [0 0 0 0 1]\n [0 1 1 0 0]\n [0 0 1 0 0]\n [0 0 0 0 4]]\n              precision    recall  f1-score   support\n\n           0       1.00      0.90      0.95        10\n           1       0.00      0.00      0.00         1\n           2       0.33      0.50      0.40         2\n           3       0.00      0.00      0.00         1\n           4       0.80      1.00      0.89         4\n\n    accuracy                           0.78        18\n   macro avg       0.43      0.48      0.45        18\nweighted avg       0.77      0.78      0.77        18\n\n"
     ]
    }
   ],
   "source": [
    "from sklearn.metrics import accuracy_score\n",
    "print(\"Accuracy: \", accuracy_score(y_test, y_pred))\n",
    "print(\"Percentage Accuracy: \", accuracy_score(y_test, y_pred) * 100)\n",
    "\n",
    "warnings.filterwarnings('ignore')\n",
    "from sklearn.metrics import classification_report, confusion_matrix\n",
    "print(confusion_matrix(y_test, y_pred))\n",
    "print(classification_report(y_test, y_pred))"
   ]
  }
 ],
 "metadata": {
  "kernelspec": {
   "name": "python392jvsc74a57bd0b479d979fba8f5132a52801ed7700af1fdc12517ba70a9910fb511de548f3041",
   "display_name": "Python 3.9.2 64-bit ('base': conda)"
  },
  "language_info": {
   "codemirror_mode": {
    "name": "ipython",
    "version": 3
   },
   "file_extension": ".py",
   "mimetype": "text/x-python",
   "name": "python",
   "nbconvert_exporter": "python",
   "pygments_lexer": "ipython3",
   "version": "3.9.2"
  },
  "metadata": {
   "interpreter": {
    "hash": "b479d979fba8f5132a52801ed7700af1fdc12517ba70a9910fb511de548f3041"
   }
  }
 },
 "nbformat": 4,
 "nbformat_minor": 4
}